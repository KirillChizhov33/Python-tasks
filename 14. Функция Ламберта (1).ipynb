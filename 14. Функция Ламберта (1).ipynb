{
 "cells": [
  {
   "cell_type": "code",
   "execution_count": 63,
   "id": "6bc42a29",
   "metadata": {},
   "outputs": [],
   "source": [
    "import numpy as np\n",
    "import matplotlib.pyplot as plt\n",
    "%matplotlib inline\n",
    "import scipy\n",
    "from scipy.special import lambertw\n",
    "from scipy import optimize\n",
    "import math\n",
    "import time"
   ]
  },
  {
   "cell_type": "markdown",
   "id": "e6e78f8f",
   "metadata": {},
   "source": [
    "# 1. График функции $y = x*e^x$"
   ]
  },
  {
   "cell_type": "code",
   "execution_count": 64,
   "id": "a125fe5d",
   "metadata": {},
   "outputs": [
    {
     "data": {
      "text/plain": [
       "Text(0, 0.5, 'Y_label')"
      ]
     },
     "execution_count": 64,
     "metadata": {},
     "output_type": "execute_result"
    },
    {
     "data": {
      "image/png": "[encoded data removed]",
      "text/plain": [
       "<Figure size 432x288 with 1 Axes>"
      ]
     },
     "metadata": {
      "needs_background": "light"
     },
     "output_type": "display_data"
    }
   ],
   "source": [
    "x = [x / 100 for x in range(-500, 150, 1)]\n",
    "y = x*np.exp(x)\n",
    "plt.plot(x,y)\n",
    "plt.xlabel(\"X_label\")\n",
    "plt.ylabel(\"Y_label\")"
   ]
  },
  {
   "cell_type": "markdown",
   "id": "10acfe45",
   "metadata": {},
   "source": [
    "# 2. График функции Ламберта"
   ]
  },
  {
   "cell_type": "code",
   "execution_count": 65,
   "id": "f9bbc182",
   "metadata": {},
   "outputs": [
    {
     "data": {
      "text/plain": [
       "Text(0, 0.5, 'Y_label')"
      ]
     },
     "execution_count": 65,
     "metadata": {},
     "output_type": "execute_result"
    },
    {
     "data": {
      "image/png": "[encoded data removed]",
      "text/plain": [
       "<Figure size 432x288 with 1 Axes>"
      ]
     },
     "metadata": {
      "needs_background": "light"
     },
     "output_type": "display_data"
    }
   ],
   "source": [
    "y = x * np.exp(x)\n",
    "plt.plot(y,x)\n",
    "plt.xlabel(\"X_label\")\n",
    "plt.ylabel(\"Y_label\")"
   ]
  },
  {
   "cell_type": "markdown",
   "id": "ee8296d9",
   "metadata": {},
   "source": [
    "# 3. Изобразим ветви функции разным цветом"
   ]
  },
  {
   "cell_type": "code",
   "execution_count": 66,
   "id": "a222b569",
   "metadata": {},
   "outputs": [
    {
     "data": {
      "text/plain": [
       "Text(0, 0.5, 'Y_label')"
      ]
     },
     "execution_count": 66,
     "metadata": {},
     "output_type": "execute_result"
    },
    {
     "data": {
      "image/png": "[encoded data removed]",
      "text/plain": [
       "<Figure size 432x288 with 1 Axes>"
      ]
     },
     "metadata": {
      "needs_background": "light"
     },
     "output_type": "display_data"
    }
   ],
   "source": [
    "x = [x / 100 for x in range(-500, -100, 1)]\n",
    "y = x*np.exp(x)\n",
    "plt.plot(y,x, color = \"r\")\n",
    "x = [x / 100 for x in range(-100, 100, 1)]\n",
    "y = x*np.exp(x)\n",
    "plt.plot(y,x, color = \"g\")\n",
    "plt.xlabel(\"X_label\")\n",
    "plt.ylabel(\"Y_label\")"
   ]
  },
  {
   "cell_type": "code",
   "execution_count": 67,
   "id": "1b10bd2d",
   "metadata": {},
   "outputs": [
    {
     "name": "stdout",
     "output_type": "stream",
     "text": [
      "(-2.5426413577735265+0j)\n",
      "(-0.2+0j)\n",
      "--- 0.0009953975677490234 seconds ---\n"
     ]
    }
   ],
   "source": [
    "# Вычислили функцию Ламберта вблизи точки -1/e, значение действительно примерно равно -1\n",
    "# w = lambertw(-np.exp(-1) + 1e-6, k=0)\n",
    "start_time = time.time()\n",
    "w = lambertw(-0.2, k=-1)\n",
    "print (w)\n",
    "print (w * np.exp(w))\n",
    "print(\"--- %s seconds ---\" % (time.time() - start_time))"
   ]
  },
  {
   "cell_type": "markdown",
   "id": "ec343032",
   "metadata": {},
   "source": [
    "# 4. Напишем функцию mylambert"
   ]
  },
  {
   "cell_type": "markdown",
   "id": "cc210f46",
   "metadata": {},
   "source": [
    "Используем метод scipy.optimize.root, здесь необходимо задать первоначальный параметр, для верхней ветви зададим x0 = log(value), для больших value это будет хорошее первое приближение, в случае отрицательных value можно задать x0 = 2, для нижней ветви x0 = -2, таким образом при разных значениях k будем получать разные значения функции"
   ]
  },
  {
   "cell_type": "code",
   "execution_count": 124,
   "id": "57160dbe",
   "metadata": {},
   "outputs": [],
   "source": [
    "def mylambert(x, k, tol):\n",
    "    if (x < -np.exp(-1) + 1e-20):\n",
    "        print(\"Значение функции не действительное число\")\n",
    "        raise ValueError\n",
    "    if((k == -1) & (x >= 0)):\n",
    "        print(\"Аргумент функции у нижней ветви не может быть >= 0 \")\n",
    "        raise ValueError\n",
    "    if((k == 0) & (x > 0)):  \n",
    "        res = scipy.optimize.root(lambda z: z * np.exp(z) - x, math.log(value), tol = 1e-5)\n",
    "    if((k == 0) & (x <= 0)):  \n",
    "        res = scipy.optimize.root(lambda z: z * np.exp(z) - x, 2,  tol = 1e-5)\n",
    "    if(k == -1):\n",
    "        res = scipy.optimize.root(lambda z: z * np.exp(z) - x, -2,  tol = 1e-5)\n",
    "    return res\n",
    "    "
   ]
  },
  {
   "cell_type": "code",
   "execution_count": 125,
   "id": "92aa10a5",
   "metadata": {},
   "outputs": [
    {
     "name": "stdout",
     "output_type": "stream",
     "text": [
      "[-0.2591711]\n",
      "--- 0.0010025501251220703 seconds ---\n"
     ]
    }
   ],
   "source": [
    "import time\n",
    "start_time = time.time()\n",
    "value = -0.2\n",
    "s = mylambert(value, k = 0, tol = 1e-8)\n",
    "A = s.x\n",
    "print(A)\n",
    "print(\"--- %s seconds ---\" % (time.time() - start_time))"
   ]
  },
  {
   "cell_type": "code",
   "execution_count": 126,
   "id": "0320f3d0",
   "metadata": {},
   "outputs": [
    {
     "name": "stdout",
     "output_type": "stream",
     "text": [
      "[-2.54264136]\n",
      "--- 0.000997304916381836 seconds ---\n"
     ]
    }
   ],
   "source": [
    "import time\n",
    "start_time = time.time()\n",
    "value = -0.2\n",
    "s = mylambert(value, k = -1, tol = 1e-8)\n",
    "A = s.x\n",
    "print(A)\n",
    "print(\"--- %s seconds ---\" % (time.time() - start_time))"
   ]
  },
  {
   "cell_type": "markdown",
   "id": "a5e15e09",
   "metadata": {},
   "source": [
    "Нашли разные значения функции для одного и того же value"
   ]
  },
  {
   "cell_type": "markdown",
   "id": "e853bbc2",
   "metadata": {},
   "source": [
    "Убедимся, что для \"далеких\" от точки x = - 1/e значений аргумента, значение фукнции находится корректно"
   ]
  },
  {
   "cell_type": "code",
   "execution_count": 127,
   "id": "5500213b",
   "metadata": {},
   "outputs": [
    {
     "name": "stdout",
     "output_type": "stream",
     "text": [
      "[37.81385627]\n",
      "mylambert = 0.0010001659393310547 seconds\n",
      "(37.81385607558877+0j)\n",
      "(1.0000000000000035e+18+0j)\n",
      "lambertw =  0.000997304916381836 seconds\n"
     ]
    }
   ],
   "source": [
    "start_time = time.time()\n",
    "value = 1000000000000000000\n",
    "s = mylambert(value, k = 0, tol = 1e-8)\n",
    "A = s.x\n",
    "print(A)\n",
    "print(\"mylambert = %s seconds\" % (time.time() - start_time))\n",
    "start_time = time.time()\n",
    "w = lambertw(1000000000000000000, k=0)\n",
    "print (w)\n",
    "print (w * np.exp(w))\n",
    "print(\"lambertw =  %s seconds\" % (time.time() - start_time))"
   ]
  },
  {
   "cell_type": "code",
   "execution_count": 116,
   "id": "4eddfa2e",
   "metadata": {},
   "outputs": [
    {
     "name": "stdout",
     "output_type": "stream",
     "text": [
      "[-38.1811173]\n",
      "mylambert = 0.00099945068359375 seconds\n",
      "(-38.18111748154758+0j)\n",
      "(-1e-15+0j)\n",
      "lambertw =  0.0009970664978027344 seconds\n"
     ]
    }
   ],
   "source": [
    "start_time = time.time()\n",
    "value = -0.000000000000001\n",
    "s = mylambert(value, k = -1, tol = 1e-8)\n",
    "A = s.x\n",
    "print(A)\n",
    "print(\"mylambert = %s seconds\" % (time.time() - start_time))\n",
    "start_time = time.time()\n",
    "w = lambertw(-0.000000000000001, k = -1)\n",
    "print (w)\n",
    "print (w * np.exp(w))\n",
    "print(\"lambertw =  %s seconds\" % (time.time() - start_time))"
   ]
  },
  {
   "cell_type": "markdown",
   "id": "88fd9750",
   "metadata": {},
   "source": [
    "# 5. Сравним mylambert и lambertw по точности и скорости работы"
   ]
  },
  {
   "cell_type": "markdown",
   "id": "aa0337a2",
   "metadata": {},
   "source": [
    "## 5.1 Сравним по времени работы"
   ]
  },
  {
   "cell_type": "markdown",
   "id": "502a5ac1",
   "metadata": {},
   "source": [
    "Для более точного результата, выполним многократное вычисление значений функций"
   ]
  },
  {
   "cell_type": "code",
   "execution_count": 100,
   "id": "d1d95179",
   "metadata": {},
   "outputs": [
    {
     "name": "stdout",
     "output_type": "stream",
     "text": [
      "mylambert 20000 iterations = 1.4196362495422363 seconds\n",
      "mylambert 1 iteration =  7.098181247711181e-05\n",
      "lambertw 20000 iterations = 0.06382560729980469 seconds\n",
      "lambertw 1 iteration =  3.1912803649902342e-06\n"
     ]
    }
   ],
   "source": [
    "start_time = time.time()\n",
    "value = -0.2\n",
    "for i in range (0,20000,1):\n",
    "    mylambert(value, k = -1, tol = 1e-8)\n",
    "Time = (time.time() - start_time)\n",
    "Time = float(Time)\n",
    "print(\"mylambert 20000 iterations = %s seconds\" % Time)\n",
    "print(\"mylambert 1 iteration = \", Time/20000)\n",
    "start_time = time.time()\n",
    "for i in range (0,20000,1):\n",
    "    lambertw(value, k = -1)\n",
    "Time = (time.time() - start_time)\n",
    "Time = float(Time)\n",
    "print(\"lambertw 20000 iterations = %s seconds\" % Time)\n",
    "print(\"lambertw 1 iteration = \", Time/20000)"
   ]
  },
  {
   "cell_type": "markdown",
   "id": "9dec9fa7",
   "metadata": {},
   "source": [
    "Видно что метод lambertw работает быстрее, чем метод mylambert"
   ]
  },
  {
   "cell_type": "markdown",
   "id": "b577b645",
   "metadata": {},
   "source": [
    "## 5.2 Сравним по точности "
   ]
  },
  {
   "cell_type": "markdown",
   "id": "29ac5049",
   "metadata": {},
   "source": [
    "Вычисления функции lambertw могут быть не очень точны вблизи точки $x_0 = 1/e$, поэтому сначал найдём значения функций именно вблизи данного значения"
   ]
  },
  {
   "cell_type": "code",
   "execution_count": 183,
   "id": "ea566fda",
   "metadata": {},
   "outputs": [
    {
     "name": "stdout",
     "output_type": "stream",
     "text": [
      "1) x0 = 1/e =  0.36787944117144233\n",
      "mylambert (x0 = 1/e): [-1.00002381]\n",
      "lambertw (x0 = 1/e): (-1.0000000008154843+0j)\n",
      "Значение полученное mylambert =  [-0.36787944]\n",
      "Значение полученное lambertw =  (-0.36787944117144233+0j)\n",
      "\n",
      "\n",
      "2) x0 = -0.000005\n",
      "mylambert (x0 = -0.000005): [-14.90796848]\n",
      "lambertw (x0 = -0.000005): (-14.907968515205422+0j)\n",
      "Значение полученное mylambert =  [-5.00000019e-06]\n",
      "Значение полученное lambertw =  (-4.999999999999997e-06+0j)\n",
      "\n",
      "\n",
      "3) x0 = 1000000\n",
      "mylambert (x0 = 1000000): [11.38335813]\n",
      "lambertw (x0 = 1000000): (11.383358086140053+0j)\n",
      "Значение полученное mylambert =  [1000000.05294664]\n",
      "Значение полученное lambertw =  (1000000.0000000002+0j)\n"
     ]
    }
   ],
   "source": [
    "# 1) x0 = 1/e \n",
    "y = 1/math.e\n",
    "print(\"1) x0 = 1/e = \", y)\n",
    "A = mylambert(-np.exp(-1) + 1e-10, k = -1, tol = 1e-8)\n",
    "B = lambertw(-np.exp(-1) + 1e-10, k = -1)\n",
    "print(\"mylambert (x0 = 1/e):\", A.x)\n",
    "print(\"lambertw (x0 = 1/e):\", B)\n",
    "y1 = (A.x)*np.exp(A.x)\n",
    "y2 = (B)*np.exp(B)\n",
    "print(\"Значение полученное mylambert = \", y1)\n",
    "print(\"Значение полученное lambertw = \", y2)\n",
    "print(\"\\n\")\n",
    "\n",
    "# 2) x0 = -0.000005\n",
    "print(\"2) x0 = -0.000005\")\n",
    "A = mylambert(-0.000005, k = -1, tol = 1e-8)\n",
    "B = lambertw(-0.000005, k = -1)\n",
    "print(\"mylambert (x0 = -0.000005):\", A.x)\n",
    "print(\"lambertw (x0 = -0.000005):\", B)\n",
    "y1 = (A.x)*np.exp(A.x)\n",
    "y2 = (B)*np.exp(B)\n",
    "print(\"Значение полученное mylambert = \", y1)\n",
    "print(\"Значение полученное lambertw = \", y2)\n",
    "print(\"\\n\")\n",
    "\n",
    "# 3) x0 = 1000000\n",
    "print(\"3) x0 = 1000000\")\n",
    "A = mylambert(1000000, k = 0, tol = 1e-8)\n",
    "B = lambertw(1000000, k = 0)\n",
    "print(\"mylambert (x0 = 1000000):\", A.x)\n",
    "print(\"lambertw (x0 = 1000000):\", B)\n",
    "y1 = (A.x)*np.exp(A.x)\n",
    "y2 = (B)*np.exp(B)\n",
    "print(\"Значение полученное mylambert = \", y1)\n",
    "print(\"Значение полученное lambertw = \", y2)"
   ]
  },
  {
   "cell_type": "markdown",
   "id": "01177b41",
   "metadata": {},
   "source": [
    "Видно, что значения отличаются (для 1го случая начиная с 5 знака после запятой, для 2го и 3го случаев начиная с 7 знака после запятой). Для 1го случая получили значение = -1.00002381 и хотя значение полученное mylambert = [-0.36787944], очевидно, что начиная с какого-то знака после запятой, оно будет отличаться от x0 = 1/e =  0.36787944117144233. Значение lambertw = -1.0000000008154843, что гораздо ближе к единице. Во 2м и 3м случаях подставив полученные значения в исходную функцию $y=x*e^x$ видно, что метод lambertw так же ближе к истинному значению"
   ]
  },
  {
   "cell_type": "code",
   "execution_count": null,
   "id": "39435a00",
   "metadata": {},
   "outputs": [],
   "source": []
  }
 ],
 "metadata": {
  "kernelspec": {
   "display_name": "Python 3 (ipykernel)",
   "language": "python",
   "name": "python3"
  },
  "language_info": {
   "codemirror_mode": {
    "name": "ipython",
    "version": 3
   },
   "file_extension": ".py",
   "mimetype": "text/x-python",
   "name": "python",
   "nbconvert_exporter": "python",
   "pygments_lexer": "ipython3",
   "version": "3.9.12"
  }
 },
 "nbformat": 4,
 "nbformat_minor": 5
}
