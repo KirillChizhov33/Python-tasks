{
 "cells": [
  {
   "cell_type": "code",
   "execution_count": 1,
   "id": "9ff9dd79",
   "metadata": {},
   "outputs": [],
   "source": [
    "import numpy as np\n",
    "import matplotlib.pyplot as plt\n",
    "%matplotlib inline\n",
    "import time"
   ]
  },
  {
   "cell_type": "markdown",
   "id": "46d881df",
   "metadata": {},
   "source": [
    "# 1. Реализуем различные варианты умножения "
   ]
  },
  {
   "cell_type": "code",
   "execution_count": 2,
   "id": "24d3e111",
   "metadata": {},
   "outputs": [],
   "source": [
    "def multijk (A, B):\n",
    "    #Можем писать len(A), поскольку матрицы квадратные\n",
    "    C = [[0 for row in range(len(A))] for col in range(len(A))]\n",
    "    for i in range(len(A)):\n",
    "        for j in range(len(A)):\n",
    "            for k in range(len(A)):\n",
    "                C[i][j] += A[i][k]*B[k][j]\n",
    "    return C"
   ]
  },
  {
   "cell_type": "code",
   "execution_count": 3,
   "id": "ffa79ae4",
   "metadata": {},
   "outputs": [],
   "source": [
    "def multikj (A, B):\n",
    "    C = [[0 for row in range(len(A))] for col in range(len(A))]\n",
    "    for i in range(len(A)):\n",
    "        for k in range(len(A)):\n",
    "            for j in range(len(A)):\n",
    "                C[i][j] += A[i][k]*B[k][j]\n",
    "    return C"
   ]
  },
  {
   "cell_type": "code",
   "execution_count": 4,
   "id": "78c533c2",
   "metadata": {},
   "outputs": [],
   "source": [
    "def multjik (A, B):\n",
    "    C = [[0 for row in range(len(A))] for col in range(len(A))]\n",
    "    for j in range(len(A)):\n",
    "        for i in range(len(A)):\n",
    "            for k in range(len(A)):\n",
    "                C[i][j] += A[i][k]*B[k][j]\n",
    "    return C"
   ]
  },
  {
   "cell_type": "code",
   "execution_count": 5,
   "id": "eaced299",
   "metadata": {},
   "outputs": [],
   "source": [
    "def multjki (A, B):\n",
    "    C = [[0 for row in range(len(A))] for col in range(len(A))]\n",
    "    for j in range(len(A)):\n",
    "        for k in range(len(A)):\n",
    "            for i in range(len(A)):\n",
    "                C[i][j] += A[i][k]*B[k][j]\n",
    "    return C"
   ]
  },
  {
   "cell_type": "code",
   "execution_count": 6,
   "id": "3540de16",
   "metadata": {},
   "outputs": [],
   "source": [
    "def multkij (A, B):\n",
    "    C = [[0 for row in range(len(A))] for col in range(len(A))]\n",
    "    for k in range(len(A)):\n",
    "        for i in range(len(A)):\n",
    "            for j in range(len(A)):\n",
    "                C[i][j] += A[i][k]*B[k][j]\n",
    "    return C"
   ]
  },
  {
   "cell_type": "code",
   "execution_count": 7,
   "id": "8d7e4aaf",
   "metadata": {},
   "outputs": [],
   "source": [
    "def multkji (A, B):\n",
    "    C = [[0 for row in range(len(A))] for col in range(len(A))]\n",
    "    for k in range(len(A)):\n",
    "        for j in range(len(A)):\n",
    "            for i in range(len(A)):\n",
    "                C[i][j] += A[i][k]*B[k][j]\n",
    "    return C"
   ]
  },
  {
   "cell_type": "markdown",
   "id": "fd1c057b",
   "metadata": {},
   "source": [
    "Проверим правильность умножения"
   ]
  },
  {
   "cell_type": "code",
   "execution_count": 8,
   "id": "7dbaa8ab",
   "metadata": {},
   "outputs": [
    {
     "name": "stdout",
     "output_type": "stream",
     "text": [
      "[[19, 22], [43, 50]]\n",
      "[[19, 22], [43, 50]]\n",
      "[[19, 22], [43, 50]]\n",
      "[[19, 22], [43, 50]]\n",
      "[[19, 22], [43, 50]]\n",
      "[[19, 22], [43, 50]]\n"
     ]
    }
   ],
   "source": [
    "X = np.array([[1,2],[3,4]])\n",
    "Y = np.array([[5,6],[7,8]])\n",
    "\n",
    "print(multijk(X,Y))\n",
    "print(multikj(X,Y))\n",
    "print(multjik(X,Y))\n",
    "print(multjki(X,Y))\n",
    "print(multkij(X,Y))\n",
    "print(multkji(X,Y))"
   ]
  },
  {
   "cell_type": "markdown",
   "id": "e620b26b",
   "metadata": {},
   "source": [
    "Замерим время для матриц больших размерностей"
   ]
  },
  {
   "cell_type": "code",
   "execution_count": 9,
   "id": "77f8a93d",
   "metadata": {},
   "outputs": [],
   "source": [
    "def Test(N):\n",
    "    XX = np.random.random((N, N))\n",
    "    YY = np.random.random((N, N))\n",
    "    print (\"Матрицы\", N, \"x\", N)\n",
    "    start_time = time.time()\n",
    "    D1 = multijk(XX,YY)\n",
    "    print (\"ijk\")\n",
    "    print (\"--- %s seconds ---\" % (time.time() - start_time))\n",
    "\n",
    "    start_time = time.time()\n",
    "    D2 = multikj(XX,YY)\n",
    "    print (\"ikj\")\n",
    "    print (\"--- %s seconds ---\" % (time.time() - start_time))\n",
    "\n",
    "    start_time = time.time()\n",
    "    D3 = multjik(XX,YY)\n",
    "    print (\"jik\")\n",
    "    print (\"--- %s seconds ---\" % (time.time() - start_time))\n",
    "\n",
    "    start_time = time.time()\n",
    "    D4 = multjki(XX,YY)\n",
    "    print (\"jki\")\n",
    "    print (\"--- %s seconds ---\" % (time.time() - start_time))\n",
    "\n",
    "    start_time = time.time()\n",
    "    D5 = multkij(XX,YY)\n",
    "    print (\"kij\")\n",
    "    print (\"--- %s seconds ---\" % (time.time() - start_time))\n",
    "\n",
    "    start_time = time.time()\n",
    "    D6 = multkji(XX,YY)\n",
    "    print (\"kji\")\n",
    "    print (\"--- %s seconds ---\" % (time.time() - start_time))"
   ]
  },
  {
   "cell_type": "code",
   "execution_count": 92,
   "id": "1dc76198",
   "metadata": {},
   "outputs": [
    {
     "name": "stdout",
     "output_type": "stream",
     "text": [
      "Матрицы 100 x 100\n",
      "ijk\n",
      "--- 1.398756504058838 seconds ---\n",
      "ikj\n",
      "--- 1.4290440082550049 seconds ---\n",
      "jik\n",
      "--- 1.4607484340667725 seconds ---\n",
      "jki\n",
      "--- 1.5289392471313477 seconds ---\n",
      "kij\n",
      "--- 1.5450079441070557 seconds ---\n",
      "kji\n",
      "--- 1.723909854888916 seconds ---\n"
     ]
    }
   ],
   "source": [
    "Test(100)"
   ]
  },
  {
   "cell_type": "code",
   "execution_count": 93,
   "id": "b7ff6174",
   "metadata": {},
   "outputs": [
    {
     "name": "stdout",
     "output_type": "stream",
     "text": [
      "Матрицы 200 x 200\n",
      "ijk\n",
      "--- 11.183667659759521 seconds ---\n",
      "ikj\n",
      "--- 11.904187679290771 seconds ---\n",
      "jik\n",
      "--- 12.005651950836182 seconds ---\n",
      "jki\n",
      "--- 9.859910011291504 seconds ---\n",
      "kij\n",
      "--- 10.153975486755371 seconds ---\n",
      "kji\n",
      "--- 9.947211980819702 seconds ---\n"
     ]
    }
   ],
   "source": [
    "Test(200)"
   ]
  },
  {
   "cell_type": "code",
   "execution_count": 94,
   "id": "dc11c120",
   "metadata": {},
   "outputs": [
    {
     "name": "stdout",
     "output_type": "stream",
     "text": [
      "Матрицы 300 x 300\n",
      "ijk\n",
      "--- 33.582733392715454 seconds ---\n",
      "ikj\n",
      "--- 34.54268217086792 seconds ---\n",
      "jik\n",
      "--- 35.620654821395874 seconds ---\n",
      "jki\n",
      "--- 47.037538290023804 seconds ---\n",
      "kij\n",
      "--- 34.4835479259491 seconds ---\n",
      "kji\n",
      "--- 32.928337812423706 seconds ---\n"
     ]
    }
   ],
   "source": [
    "Test(300)"
   ]
  },
  {
   "cell_type": "markdown",
   "id": "6f984f08",
   "metadata": {},
   "source": [
    "Сложность умножения квадратных матриц порядка O(N^3), для N = 200 время работы алгоритмов примерно равно 11 секунд, для N = 100, время работы примерно 1.4 секунды, таким образом при увеличении N в 2 раза, время работы возросло примерно в 8 раз"
   ]
  },
  {
   "cell_type": "markdown",
   "id": "b5606433",
   "metadata": {},
   "source": [
    "# 2. Построим графики зависимостей времени от размерности"
   ]
  },
  {
   "cell_type": "code",
   "execution_count": 26,
   "id": "aa47ff80",
   "metadata": {},
   "outputs": [
    {
     "name": "stdout",
     "output_type": "stream",
     "text": [
      "Посчитали для матриц размерности: 100 x 100\n",
      "Посчитали для матриц размерности: 200 x 200\n",
      "Посчитали для матриц размерности: 300 x 300\n",
      "Посчитали для матриц размерности: 400 x 400\n",
      "Посчитали для матриц размерности: 500 x 500\n"
     ]
    },
    {
     "data": {
      "image/png": "[encoded data removed]",
      "text/plain": [
       "<Figure size 432x288 with 1 Axes>"
      ]
     },
     "metadata": {
      "needs_background": "light"
     },
     "output_type": "display_data"
    }
   ],
   "source": [
    "Time1 = []\n",
    "Time2 = []\n",
    "Time3 = []\n",
    "Time4 = []\n",
    "Time5 = []\n",
    "Time6 = []\n",
    "Size = []\n",
    "\n",
    "for i in range(100,501,100):\n",
    "    XX = np.random.random((i, i))\n",
    "    YY = np.random.random((i, i))\n",
    "    \n",
    "    start_time = time.time()\n",
    "    C = multijk(XX,YY)\n",
    "    Time1.append((time.time() - start_time))\n",
    "    \n",
    "    start_time = time.time()\n",
    "    C = multikj(XX,YY)\n",
    "    Time2.append((time.time() - start_time))\n",
    "    \n",
    "    start_time = time.time()\n",
    "    C = multjik(XX,YY)\n",
    "    Time3.append((time.time() - start_time))\n",
    "    \n",
    "    start_time = time.time()\n",
    "    C = multjki(XX,YY)\n",
    "    Time4.append((time.time() - start_time))\n",
    "    \n",
    "    start_time = time.time()\n",
    "    C = multkij(XX,YY)\n",
    "    Time5.append((time.time() - start_time))\n",
    "    \n",
    "    start_time = time.time()\n",
    "    C = multkji(XX,YY)\n",
    "    Time6.append((time.time() - start_time))\n",
    "    Size.append(i)\n",
    "    \n",
    "    print(\"Посчитали для матриц размерности:\",i, \"x\", i)\n",
    "    \n",
    "plt.plot(Size,Time1, label='(ijk)')\n",
    "plt.plot(Size,Time2, label='(ikj)')\n",
    "plt.plot(Size,Time3, label='(jik)')\n",
    "plt.plot(Size,Time4, label='(jki)')\n",
    "plt.plot(Size,Time5, label='(kij)')\n",
    "plt.plot(Size,Time6, label='(kji)')\n",
    "plt.xlabel(\"Dimension\")\n",
    "plt.ylabel(\"Time\")\n",
    "plt.legend()\n",
    "plt.show()"
   ]
  },
  {
   "cell_type": "code",
   "execution_count": 29,
   "id": "619fd739",
   "metadata": {},
   "outputs": [
    {
     "name": "stdout",
     "output_type": "stream",
     "text": [
      "Время метода ijk для размерности 500х500:  177.59707188606262\n",
      "Время метода ikj для размерности 500х500:  175.39084005355835\n",
      "Время метода jik для размерности 500х500:  189.16264653205872\n",
      "Время метода jki для размерности 500х500:  203.7898530960083\n",
      "Время метода kij для размерности 500х500:  174.41881561279297\n",
      "Время метода kji для размерности 500х500:  176.94757771492004\n"
     ]
    }
   ],
   "source": [
    "print(\"Время метода ijk для размерности 500х500: \", Time1[4])\n",
    "print(\"Время метода ikj для размерности 500х500: \", Time2[4])\n",
    "print(\"Время метода jik для размерности 500х500: \", Time3[4])\n",
    "print(\"Время метода jki для размерности 500х500: \", Time4[4])\n",
    "print(\"Время метода kij для размерности 500х500: \", Time5[4])\n",
    "print(\"Время метода kji для размерности 500х500: \", Time6[4])\n"
   ]
  },
  {
   "cell_type": "markdown",
   "id": "551cebdf",
   "metadata": {},
   "source": [
    "# 3. Вывод"
   ]
  },
  {
   "cell_type": "markdown",
   "id": "6ad33aaa",
   "metadata": {},
   "source": [
    "Numpy array использует меньше памяти, чем список Python. Кроме того, Numpy быстрее и удобнее, чем список. Двумерный массив размера $N*N$ будет храниться в непрерывном участке памяти"
   ]
  },
  {
   "cell_type": "markdown",
   "id": "0a6f871d",
   "metadata": {},
   "source": [
    "Три цикла при умножении матриц можно переставлять любым образом не влияя на правильность умножения. Однако, как видно к примеру из последнего графика, время работы разных алгоритмов может отличаться."
   ]
  },
  {
   "cell_type": "markdown",
   "id": "dc2ae802",
   "metadata": {},
   "source": [
    "Порядок циклов может влиять на характеристики доступа памяти и на алгоритм использовани кэша. Какой порядок вычисления лучше, зависит от того, как хранятся исходные матрицы - в строковом или столбцовом порядке. Для больших матриц скорость доступа к памяти влияет на время работы алгоритма"
   ]
  },
  {
   "cell_type": "markdown",
   "id": "9af5eb9c",
   "metadata": {},
   "source": [
    "Результат умножения $C[i][j] += A[i][k]*B[k][j]$\n"
   ]
  },
  {
   "cell_type": "markdown",
   "id": "efce0600",
   "metadata": {},
   "source": [
    "Метод $jki$ показал худший результат по времени, потому что при таком умножении исходные матрицы $A,B$ обходятся по столбцам(в методе $jki$, индекс $i$ после индекса $k$, индекс $k$ после индекса $j$), так же стоит отметить что ответ(матрица $С$), будет проходиться по столбцам(индекс $i$ после индеса $j$)."
   ]
  },
  {
   "cell_type": "markdown",
   "id": "1fe402e2",
   "metadata": {},
   "source": [
    "В методе $ikj$ напротив исходные матрицы $A,B$ обходятся по строкам(так же стоит отметить что ответ(матрица $С$), будет проходиться построчно)"
   ]
  },
  {
   "cell_type": "markdown",
   "id": "1e56de3f",
   "metadata": {},
   "source": [
    "Что же касается метода $kij$ в нем матрица $А$ будет обходиться по столбцам, матрицы $В$ и $С$ - построчно."
   ]
  },
  {
   "cell_type": "code",
   "execution_count": null,
   "id": "116ef249",
   "metadata": {},
   "outputs": [],
   "source": []
  }
 ],
 "metadata": {
  "kernelspec": {
   "display_name": "Python 3 (ipykernel)",
   "language": "python",
   "name": "python3"
  },
  "language_info": {
   "codemirror_mode": {
    "name": "ipython",
    "version": 3
   },
   "file_extension": ".py",
   "mimetype": "text/x-python",
   "name": "python",
   "nbconvert_exporter": "python",
   "pygments_lexer": "ipython3",
   "version": "3.9.12"
  }
 },
 "nbformat": 4,
 "nbformat_minor": 5
}
