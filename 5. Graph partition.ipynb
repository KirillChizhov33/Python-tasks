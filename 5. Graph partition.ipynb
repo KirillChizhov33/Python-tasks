{
 "cells": [
  {
   "cell_type": "code",
   "execution_count": 2,
   "id": "c072db22",
   "metadata": {
    "scrolled": true
   },
   "outputs": [
    {
     "name": "stdout",
     "output_type": "stream",
     "text": [
      "11\n"
     ]
    }
   ],
   "source": [
    "class graph_partition:\n",
    "    def __init__(self, number, count):\n",
    "        self.number = number\n",
    "        self.count = count\n",
    "        pass\n",
    "    def fit(self, n):\n",
    "        self.n = n\n",
    "        Pairs = n *(n-1)/2\n",
    "        Work = int(Pairs/self.count)\n",
    "        Bet = Pairs%self.count\n",
    "        Length = 0\n",
    "        if(self.number == 0):\n",
    "            Index = 0\n",
    "        if(self.number < Bet):\n",
    "            Index = (Work+1)*self.number\n",
    "            Length = Work + 1\n",
    "        if(self.number >= Bet):\n",
    "            Index = (Work+1)*Bet + Work*(self.number-Bet)\n",
    "            Length = Work  \n",
    "        self.L = Length\n",
    "        if(self.number < 0):\n",
    "            raise ValueError\n",
    "        if(self.count < 0):\n",
    "            raise ValueError\n",
    "        if(self.number == 0):\n",
    "            Index1 = 0\n",
    "            Index2 = 1\n",
    "        else:\n",
    "            check = 0\n",
    "            i = 0\n",
    "            NN_test = n - 1\n",
    "            while (check < Index):\n",
    "                check = check + NN_test\n",
    "                NN_test = NN_test - 1\n",
    "                i = i + 1\n",
    "            if(check == Index):\n",
    "                Index2 = i+1\n",
    "                Index1 = i\n",
    "            else:\n",
    "                Index1 = i-1\n",
    "                Index2 = n - (check - Index)\n",
    "        self.Index1 = Index1\n",
    "        self.Index2 = Index2\n",
    "        self.element_id = self.L\n",
    "    def __iter__(self):\n",
    "        return self\n",
    "    def __next__(self):\n",
    "        if(self.element_id == self.L):\n",
    "            raise StopIteration\n",
    "        else:\n",
    "            Index1 = self.Index1\n",
    "            Index2 = self.Index2 \n",
    "            self.element_id += 1\n",
    "            if(self.Index2 == (self.n - 1)):\n",
    "                self.Index1 = self.Index1 + 1\n",
    "                self.Index2 = self.Index1 + 1\n",
    "            else:\n",
    "                self.Index2 = self.Index2 + 1\n",
    "            x = int(Index1)\n",
    "            y = int(Index2)\n",
    "            return (x, y)\n",
    "    def __len__(self):\n",
    "         return self.L \n",
    "n = 10\n",
    "p = 4\n",
    "k = 2\n",
    "\n",
    "if((p<(n/2 - 10))| (p>(3*n/2+10))):\n",
    "    raise ValueError\n",
    "if ((n>100000) | (n<0)):\n",
    "    raise ValueError\n",
    "if ((k<0) | (k>=p)):\n",
    "    raise ValueError\n",
    "Graph = graph_partition(int(k), int(p))\n",
    "Graph.fit(int(n))\n",
    "v = len(Graph)\n",
    "print(v)\n",
    "Graph = iter(Graph)\n",
    "for i in Graph:\n",
    "    print(i)"
   ]
  },
  {
   "cell_type": "code",
   "execution_count": null,
   "id": "b7c5360d",
   "metadata": {},
   "outputs": [],
   "source": []
  },
  {
   "cell_type": "code",
   "execution_count": null,
   "id": "2b2fbf22",
   "metadata": {},
   "outputs": [],
   "source": []
  }
 ],
 "metadata": {
  "kernelspec": {
   "display_name": "Python 3 (ipykernel)",
   "language": "python",
   "name": "python3"
  },
  "language_info": {
   "codemirror_mode": {
    "name": "ipython",
    "version": 3
   },
   "file_extension": ".py",
   "mimetype": "text/x-python",
   "name": "python",
   "nbconvert_exporter": "python",
   "pygments_lexer": "ipython3",
   "version": "3.9.12"
  }
 },
 "nbformat": 4,
 "nbformat_minor": 5
}
