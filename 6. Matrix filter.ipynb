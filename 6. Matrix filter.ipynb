{
 "cells": [
  {
   "cell_type": "code",
   "execution_count": 1,
   "id": "34e49b35",
   "metadata": {},
   "outputs": [],
   "source": [
    "import sys\n",
    "import itertools\n",
    "import numpy as np\n",
    "import random\n",
    "from itertools import islice\n"
   ]
  },
  {
   "cell_type": "code",
   "execution_count": 313,
   "id": "9fa4b120",
   "metadata": {},
   "outputs": [
    {
     "name": "stdout",
     "output_type": "stream",
     "text": [
      "(0, 0)\n",
      "(0, 1)\n",
      "(1, 1)\n",
      "(1, 2)\n",
      "(1, 3)\n",
      "(2, 1)\n",
      "(2, 2)\n"
     ]
    }
   ],
   "source": [
    "import itertools \n",
    "class score_filter:\n",
    "    def __init__(self, min_score, max_score):\n",
    "        self.min_score = min_score\n",
    "        self.max_score = max_score\n",
    "        pass\n",
    "    def fit(self, x, y, iterable):\n",
    "        self.Ress = []\n",
    "        A = list(itertools.accumulate(x))\n",
    "        B = list(itertools.accumulate(y))\n",
    "        All = A[len(A)-1]*B[len(B)-1]\n",
    "        for i in iterable:\n",
    "            if(((A[i[0]] * B[i[1]])/All > self.min_score) & ((A[i[0]] * B[i[1]])/All < self.max_score)):\n",
    "                    self.Ress.append(i)\n",
    "        self.qq = len(self.Ress)\n",
    "    def __iter__(self):\n",
    "        i = 0\n",
    "        while (i != self.qq):\n",
    "            yield self.Ress[i]\n",
    "            i += 1\n",
    "x = [1,2,3,4]\n",
    "y = [5,6,7,8]\n",
    "iterable = [(0,0),(0,1),(1,1),(1,2),(1,3),(2,1),(2,2),(2,3),(3,3)]\n",
    "iterable = iter(iterable)\n",
    "V = score_filter(0,0.6)\n",
    "V.fit(x,y,iterable)\n",
    "V = iter(V)\n",
    "for i in V:\n",
    "    print(i)"
   ]
  },
  {
   "cell_type": "code",
   "execution_count": null,
   "id": "ed0a1172",
   "metadata": {},
   "outputs": [],
   "source": []
  },
  {
   "cell_type": "code",
   "execution_count": null,
   "id": "da55c76c",
   "metadata": {},
   "outputs": [],
   "source": []
  }
 ],
 "metadata": {
  "kernelspec": {
   "display_name": "Python 3 (ipykernel)",
   "language": "python",
   "name": "python3"
  },
  "language_info": {
   "codemirror_mode": {
    "name": "ipython",
    "version": 3
   },
   "file_extension": ".py",
   "mimetype": "text/x-python",
   "name": "python",
   "nbconvert_exporter": "python",
   "pygments_lexer": "ipython3",
   "version": "3.9.12"
  }
 },
 "nbformat": 4,
 "nbformat_minor": 5
}
