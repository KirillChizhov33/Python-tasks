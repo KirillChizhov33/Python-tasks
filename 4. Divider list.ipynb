{
 "cells": [
  {
   "cell_type": "code",
   "execution_count": 2,
   "id": "8a86d6bc",
   "metadata": {},
   "outputs": [],
   "source": [
    "class MyList:\n",
    "    def __init__(self, A):\n",
    "        self.A = A\n",
    "    def check(self):\n",
    "        print(self.A)"
   ]
  },
  {
   "cell_type": "code",
   "execution_count": 3,
   "id": "900a3239",
   "metadata": {},
   "outputs": [],
   "source": [
    "class MyList:\n",
    "    def __init__(self, A):\n",
    "        self.A = A\n",
    "    def check(self):\n",
    "        print(self.A)\n",
    "class list_divider(MyList):\n",
    "     def Del(self,x):\n",
    "        try:\n",
    "            from itertools import islice\n",
    "            print(type(self.A))\n",
    "            length_to_split = []\n",
    "            if (x <= 0): raise ValueError\n",
    "            if (type(x) != type(1)): raise ValueError\n",
    "            y = len(self.A)/x\n",
    "            z = len(self.A)\n",
    "            for i in range (0,x,1):\n",
    "                if((z%int(x) != 0) & (z > int(y+1))):                        \n",
    "                    length_to_split.append(int(y)+1)\n",
    "                    z = z-(int(y)+1)\n",
    "                    x = x-1\n",
    "                else:\n",
    "                    length_to_split.append(int(y))\n",
    "                    z = z-int(y)\n",
    "                    x= x-1\n",
    "            print(length_to_split)\n",
    "            Inputt = iter(self.A)\n",
    "            Output = [list(islice(Inputt, elem))\n",
    "            for elem in length_to_split]\n",
    "            return Output\n",
    "        except TypeError:\n",
    "            print(\"TypeError\")\n",
    "        except ValueError:\n",
    "            print(\"ValueError\")\n"
   ]
  },
  {
   "cell_type": "code",
   "execution_count": 4,
   "id": "dd63f024",
   "metadata": {},
   "outputs": [
    {
     "name": "stdout",
     "output_type": "stream",
     "text": [
      "[1, 2, 3, 4, 5, 6, 7, 8]\n"
     ]
    }
   ],
   "source": [
    "a = list_divider([1,2,3,4,5,6,7,8])          \n",
    "a.check()"
   ]
  },
  {
   "cell_type": "code",
   "execution_count": 5,
   "id": "98fcd55d",
   "metadata": {},
   "outputs": [
    {
     "name": "stdout",
     "output_type": "stream",
     "text": [
      "<class 'list'>\n",
      "[4, 4]\n",
      "[[1, 2, 3, 4], [5, 6, 7, 8]]\n"
     ]
    }
   ],
   "source": [
    "V=a.Del(2)\n",
    "print(V)"
   ]
  },
  {
   "cell_type": "code",
   "execution_count": 6,
   "id": "6a44d39a",
   "metadata": {},
   "outputs": [
    {
     "name": "stdout",
     "output_type": "stream",
     "text": [
      "[array([1, 2]), array([3, 4]), array([5, 6])]\n",
      "[ 9 12]\n"
     ]
    }
   ],
   "source": [
    "class list_divider(list):\n",
    "     def __truediv__(self,x):\n",
    "        import numpy as np\n",
    "        if (x <= 0): raise ValueError\n",
    "        if (type(x) != type(1)): raise TypeError\n",
    "        Output = np.array_split(self, x)\n",
    "        return Output\n",
    "    \n",
    "try: \n",
    "    B = [1,2,3,4,5,6]\n",
    "    A = list_divider(B)  \n",
    "    x = 3\n",
    "    L = A/(x)\n",
    "    print(L)\n",
    "    CC = L[0]\n",
    "    for i in range (1,x,1):\n",
    "        CC += L[i]\n",
    "    print(CC)\n",
    "        \n",
    "except TypeError:\n",
    "        print(\"TypeError\")\n",
    "except ValueError:\n",
    "        print(\"ValueError\")"
   ]
  },
  {
   "cell_type": "code",
   "execution_count": null,
   "id": "ac0c23aa",
   "metadata": {},
   "outputs": [],
   "source": []
  },
  {
   "cell_type": "code",
   "execution_count": null,
   "id": "174147af",
   "metadata": {},
   "outputs": [],
   "source": []
  },
  {
   "cell_type": "code",
   "execution_count": null,
   "id": "54a47653",
   "metadata": {},
   "outputs": [],
   "source": []
  }
 ],
 "metadata": {
  "kernelspec": {
   "display_name": "Python 3 (ipykernel)",
   "language": "python",
   "name": "python3"
  },
  "language_info": {
   "codemirror_mode": {
    "name": "ipython",
    "version": 3
   },
   "file_extension": ".py",
   "mimetype": "text/x-python",
   "name": "python",
   "nbconvert_exporter": "python",
   "pygments_lexer": "ipython3",
   "version": "3.9.12"
  }
 },
 "nbformat": 4,
 "nbformat_minor": 5
}
