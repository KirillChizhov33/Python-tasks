{
 "cells": [
  {
   "cell_type": "code",
   "execution_count": 7,
   "id": "f61bd703",
   "metadata": {},
   "outputs": [],
   "source": [
    "import numpy as np\n",
    "def compute_baseline(movie, f_noise_sigma, mean_window_size, num_iterations):\n",
    "    print(movie)\n",
    "    print(f_noise_sigma)\n",
    "    print(mean_window_size)\n",
    "    print(num_iterations)\n",
    "    \n",
    "    B0 = movie\n",
    "    \n",
    "    return "
   ]
  },
  {
   "cell_type": "code",
   "execution_count": 9,
   "id": "780b7c69",
   "metadata": {},
   "outputs": [
    {
     "name": "stdout",
     "output_type": "stream",
     "text": [
      "[[[1. 1. 3. 0. 5. 1. 2.]]]\n",
      "[[1.]]\n",
      "3\n",
      "10\n"
     ]
    }
   ],
   "source": [
    "movie = np.array([[[1, 1, 3, 0, 5, 1, 2]]], dtype = np.float64)\n",
    "f_noise_sigma = np.array([[1]], dtype = np.float64)\n",
    "mean_window_size = 3\n",
    "num_iterations = 10\n",
    "W = compute_baseline(movie, f_noise_sigma, mean_window_size, num_iterations)"
   ]
  },
  {
   "cell_type": "code",
   "execution_count": null,
   "id": "7a5b79f7",
   "metadata": {},
   "outputs": [],
   "source": []
  },
  {
   "cell_type": "code",
   "execution_count": null,
   "id": "adf3e845",
   "metadata": {},
   "outputs": [],
   "source": []
  },
  {
   "cell_type": "code",
   "execution_count": null,
   "id": "2c3e1262",
   "metadata": {},
   "outputs": [],
   "source": []
  },
  {
   "cell_type": "code",
   "execution_count": null,
   "id": "d88e83ce",
   "metadata": {},
   "outputs": [],
   "source": []
  }
 ],
 "metadata": {
  "kernelspec": {
   "display_name": "Python 3 (ipykernel)",
   "language": "python",
   "name": "python3"
  },
  "language_info": {
   "codemirror_mode": {
    "name": "ipython",
    "version": 3
   },
   "file_extension": ".py",
   "mimetype": "text/x-python",
   "name": "python",
   "nbconvert_exporter": "python",
   "pygments_lexer": "ipython3",
   "version": "3.9.12"
  }
 },
 "nbformat": 4,
 "nbformat_minor": 5
}
