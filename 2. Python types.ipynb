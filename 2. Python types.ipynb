{
 "cells": [
  {
   "cell_type": "code",
   "execution_count": 4,
   "id": "b085e5c9",
   "metadata": {},
   "outputs": [],
   "source": [
    "def get_objects():\n",
    "    class Tesk:  \n",
    "        a = 0\n",
    "    def generator(N):\n",
    "        yield 0\n",
    "    import math\n",
    "    A1 = None \n",
    "    A2 = True \n",
    "    A3 = bytearray(b'Hello') \n",
    "    A4 = b'Hello' \n",
    "    A5 = 3+4j \n",
    "    A6 = {1:2,3:4} \n",
    "    A7 = 2.5 \n",
    "    A8 = frozenset('Hello') \n",
    "    A9 = get_objects \n",
    "    A10 = 3 \n",
    "    A11 = [1,2,3] \n",
    "    A12 = memoryview(bytearray(b'Hello')) \n",
    "    A13 = math \n",
    "    A14 = range(1,10) \n",
    "    A15 = {1,2,3} \n",
    "    A16 = \"Hello\" \n",
    "    A17 = (1,2,3) \n",
    "    A18 =  Tesk \n",
    "    A19 = Exception() \n",
    "    A20 = ValueError()\n",
    "    A21 = len\n",
    "    A22 = object()\n",
    "    A23 = generator(10)\n",
    "    A24 = iter(A11)\n",
    "    A25 = iter(A6)\n",
    "    A26 = str.index\n",
    "    Types = [A1,A2,A3,A4,A5,A6,A7,A8,A9,A10,A11,A12,A13,A14,A15,A16,A17,A18,A19,A20,A21,A22,A23,A24,A25,A26]\n",
    "    return sorted(Types, key=lambda x: type(x).__name__)"
   ]
  },
  {
   "cell_type": "code",
   "execution_count": 6,
   "id": "6e5dc530",
   "metadata": {},
   "outputs": [
    {
     "name": "stdout",
     "output_type": "stream",
     "text": [
      "[Exception(), None, ValueError(), True, <built-in function len>, bytearray(b'Hello'), b'Hello', (3+4j), {1: 2, 3: 4}, <dict_keyiterator object at 0x0000024ED8376270>, 2.5, frozenset({'o', 'l', 'e', 'H'}), <function get_objects at 0x0000024ED682CF70>, <generator object get_objects.<locals>.generator at 0x0000024ED8347E40>, 3, [1, 2, 3], <list_iterator object at 0x0000024ED6825A60>, <memory at 0x0000024ED8342E80>, <method 'index' of 'str' objects>, <module 'math' (built-in)>, <object object at 0x0000024ED7B7B750>, range(1, 10), {1, 2, 3}, 'Hello', (1, 2, 3), <class '__main__.get_objects.<locals>.Tesk'>]\n"
     ]
    }
   ],
   "source": [
    " print(get_objects())"
   ]
  },
  {
   "cell_type": "code",
   "execution_count": null,
   "id": "239f6622",
   "metadata": {},
   "outputs": [],
   "source": []
  }
 ],
 "metadata": {
  "kernelspec": {
   "display_name": "Python 3 (ipykernel)",
   "language": "python",
   "name": "python3"
  },
  "language_info": {
   "codemirror_mode": {
    "name": "ipython",
    "version": 3
   },
   "file_extension": ".py",
   "mimetype": "text/x-python",
   "name": "python",
   "nbconvert_exporter": "python",
   "pygments_lexer": "ipython3",
   "version": "3.9.12"
  }
 },
 "nbformat": 4,
 "nbformat_minor": 5
}
