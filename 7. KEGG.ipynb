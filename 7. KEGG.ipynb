{
 "cells": [
  {
   "cell_type": "code",
   "execution_count": 5,
   "id": "a0218535",
   "metadata": {},
   "outputs": [
    {
     "name": "stdout",
     "output_type": "stream",
     "text": [
      "3\n"
     ]
    }
   ],
   "source": [
    "def parse_gene_paths(table_text : str) -> dict:\n",
    "    linWAY = []\n",
    "    linDNK = []\n",
    "    gene_in_path = {}\n",
    "    str_WAY = \"\"\n",
    "    str_DNK = \"\" \n",
    "    j = 0\n",
    "    for i in range (0,len(table_text),1):\n",
    "        if ((table_text[i] ==  \"\\t\") & (j == 0)):\n",
    "            linWAY.append(str_WAY)\n",
    "            str_WAY = \"\"\n",
    "            j = 1\n",
    "        if ((table_text[i] !=  \"\\t\") & (j == 0)):\n",
    "            str_WAY += table_text[i]\n",
    "        if ((table_text[i] !=  \"\\n\") & (j == 1)):\n",
    "            str_DNK += table_text[i]\n",
    "        if ((table_text[i] ==  \"\\n\") & (j == 1)):\n",
    "            linDNK.append(str_DNK)\n",
    "            str_DNK = \"\"\n",
    "            j = 0\n",
    "    for i in range (0, len(linDNK), 1):\n",
    "        linDNK[i] = linDNK[i].split()\n",
    "        linDNK[i].remove(\"NA\")\n",
    "    for i in range (0, len(linDNK), 1):\n",
    "        nk = linWAY[i]\n",
    "        gene_in_path[nk] = linDNK[i]\n",
    "    return gene_in_path\n",
    "def count_paths_for_gene(\n",
    "    gene_in_path : dict, \n",
    "    gene : str, \n",
    "    path_part : str\n",
    ") -> int:\n",
    "    result = 0\n",
    "    keys = list(gene_in_path.keys())\n",
    "    values = list(gene_in_path.values())\n",
    "    for i in range(0, len(keys),1):\n",
    "        keys[i] = keys[i].split('_')\n",
    "    for i in range (0, len(keys),1):\n",
    "        if path_part in keys[i]:\n",
    "            if gene in values[i]:\n",
    "                result+=1\n",
    "    return result\n",
    "with open(\"kegg_hsa_gmt.txt\", \"r\") as file:\n",
    "    table_text1 = file.read()\n",
    "gene_in_path1 = parse_gene_paths(table_text1)\n",
    "path_count = count_paths_for_gene(\n",
    "    gene_in_path1, \n",
    "    'SDS', \n",
    "    'metabolism'\n",
    ")\n",
    "print(path_count)"
   ]
  },
  {
   "cell_type": "code",
   "execution_count": null,
   "id": "a305975e",
   "metadata": {},
   "outputs": [],
   "source": []
  }
 ],
 "metadata": {
  "kernelspec": {
   "display_name": "Python 3 (ipykernel)",
   "language": "python",
   "name": "python3"
  },
  "language_info": {
   "codemirror_mode": {
    "name": "ipython",
    "version": 3
   },
   "file_extension": ".py",
   "mimetype": "text/x-python",
   "name": "python",
   "nbconvert_exporter": "python",
   "pygments_lexer": "ipython3",
   "version": "3.9.12"
  }
 },
 "nbformat": 4,
 "nbformat_minor": 5
}
