{
 "cells": [
  {
   "cell_type": "code",
   "execution_count": 7,
   "id": "4733bec6",
   "metadata": {},
   "outputs": [],
   "source": [
    "def comparator(x,y):\n",
    "    if(x < y): return -1\n",
    "    if(x == y): return 0\n",
    "    if(x > y): return 1"
   ]
  },
  {
   "cell_type": "code",
   "execution_count": 8,
   "id": "bb9b9abb",
   "metadata": {},
   "outputs": [],
   "source": [
    "from functools import cmp_to_key\n"
   ]
  },
  {
   "cell_type": "code",
   "execution_count": 10,
   "id": "31a7173a",
   "metadata": {},
   "outputs": [
    {
     "name": "stdout",
     "output_type": "stream",
     "text": [
      "[1, 2, 3, 4, 5, 6, 7, 8, 9]\n"
     ]
    }
   ],
   "source": [
    "A = [2,8,4,5,1,3,9,7,6]\n",
    "print(sorted(A, key=cmp_to_key(comparator)))"
   ]
  },
  {
   "cell_type": "code",
   "execution_count": 3,
   "id": "3ca03822",
   "metadata": {},
   "outputs": [],
   "source": [
    "def cmp_to_key():\n",
    "    return comparator"
   ]
  },
  {
   "cell_type": "code",
   "execution_count": 23,
   "id": "c72db2ae",
   "metadata": {},
   "outputs": [],
   "source": [
    "key = cmp_to_key(4)"
   ]
  },
  {
   "cell_type": "code",
   "execution_count": 24,
   "id": "c2a03c4a",
   "metadata": {},
   "outputs": [
    {
     "data": {
      "text/plain": [
       "4"
      ]
     },
     "execution_count": 24,
     "metadata": {},
     "output_type": "execute_result"
    }
   ],
   "source": [
    "key"
   ]
  },
  {
   "cell_type": "code",
   "execution_count": 2,
   "id": "09eaf6e2",
   "metadata": {},
   "outputs": [
    {
     "name": "stdout",
     "output_type": "stream",
     "text": [
      "[1, 3, 4, 5, 6, 7, 8, 9, 21]\n"
     ]
    }
   ],
   "source": [
    "def comparator(x,y):\n",
    "    if(x < y): return -1\n",
    "    if(x == y): return 0\n",
    "    if(x > y): return 1\n",
    "    \n",
    "from functools import cmp_to_key\n",
    "A = [2,8,4,5,1,3,9,7,6]\n",
    "print(sorted(A, key=cmp_to_key(comparator)))"
   ]
  },
  {
   "cell_type": "code",
   "execution_count": 62,
   "id": "089588c0",
   "metadata": {},
   "outputs": [
    {
     "data": {
      "text/plain": [
       "<function __main__.cmp_to_key(x)>"
      ]
     },
     "execution_count": 62,
     "metadata": {},
     "output_type": "execute_result"
    }
   ],
   "source": [
    "key"
   ]
  },
  {
   "cell_type": "code",
   "execution_count": null,
   "id": "390db478",
   "metadata": {},
   "outputs": [],
   "source": []
  }
 ],
 "metadata": {
  "kernelspec": {
   "display_name": "Python 3 (ipykernel)",
   "language": "python",
   "name": "python3"
  },
  "language_info": {
   "codemirror_mode": {
    "name": "ipython",
    "version": 3
   },
   "file_extension": ".py",
   "mimetype": "text/x-python",
   "name": "python",
   "nbconvert_exporter": "python",
   "pygments_lexer": "ipython3",
   "version": "3.9.12"
  }
 },
 "nbformat": 4,
 "nbformat_minor": 5
}
