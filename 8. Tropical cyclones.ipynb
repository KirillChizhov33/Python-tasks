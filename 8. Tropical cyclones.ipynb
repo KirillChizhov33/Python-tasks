{
 "cells": [
  {
   "cell_type": "code",
   "execution_count": 24,
   "id": "856a6761",
   "metadata": {},
   "outputs": [
    {
     "name": "stdout",
     "output_type": "stream",
     "text": [
      "{'3103', '0909'}\n",
      "{'3004', '0401'}\n"
     ]
    },
    {
     "data": {
      "text/plain": [
       "{'any_year': 4,\n",
       " 'both_years': 0,\n",
       " 'only_one_year': 4,\n",
       " 'only_first_year': 2,\n",
       " 'only_second_year': 2,\n",
       " 'none_of_years': 361}"
      ]
     },
     "execution_count": 24,
     "metadata": {},
     "output_type": "execute_result"
    }
   ],
   "source": [
    "def common_tc_dates(\n",
    "    cyclone_dates_1 : list[str], \n",
    "    cyclone_dates_2 : list[str]\n",
    ") -> dict:\n",
    "    Res = {\n",
    "    \"any_year\": 0, \n",
    "    \"both_years\": 0, \n",
    "    \"only_one_year\": 0,\n",
    "    \"only_first_year\": 0, \n",
    "    \"only_second_year\": 0, \n",
    "    \"none_of_years\": 0\n",
    "    }\n",
    "    Dates1 = set()\n",
    "    Dates2 = set()\n",
    "    day_count_for_month = [31, 28, 31, 30, 31, 30, 31, 31, 30, 31, 30, 31]\n",
    "    for i in cyclone_dates_1:\n",
    "        krr = 0\n",
    "        for k in i:\n",
    "            if(k == \"/\"):\n",
    "                krr += 1\n",
    "        if(krr == 2):\n",
    "            i = i.strip()\n",
    "            i = i.split(\"/\")\n",
    "            i[0] = i[0].strip()\n",
    "            i[1] = i[1].strip()\n",
    "            i[2] = i[2].strip()\n",
    "            if ((str.isdigit(i[0])) & (str.isdigit(i[1])) & (str.isdigit(i[2]))):\n",
    "                if((int(i[2]) >= 1982) & (int(i[2]) <= 2022)):\n",
    "                        if(len(i[0]) == 1):\n",
    "                            i[0] = '0' + i[0]\n",
    "                        if(len(i[1]) == 1):\n",
    "                            i[1] = '0' + i[1]\n",
    "                        if((len(i[0]) == 2) & (len(i[1]) == 2)):\n",
    "                            if((int(i[1])<= 12) & (int(i[1])>=1)):\n",
    "                                if((int(i[0]) >= 1) & (int(i[0]) <= day_count_for_month[int(i[1]) - 1])):\n",
    "                                    Dates1.add(i[0] + i[1])\n",
    "    for i in cyclone_dates_2:\n",
    "        krr = 0\n",
    "        for k in i:\n",
    "            if(k == \"/\"):\n",
    "                krr += 1\n",
    "        if(krr == 2):\n",
    "            i = i.strip()\n",
    "            i = i.split(\"/\")\n",
    "            i[0] = i[0].strip()\n",
    "            i[1] = i[1].strip()\n",
    "            i[2] = i[2].strip()\n",
    "            if ((str.isdigit(i[0])) & (str.isdigit(i[1])) & (str.isdigit(i[2]))):\n",
    "                if((int(i[2]) >= 1982) & (int(i[2]) <= 2022)):\n",
    "                        if(len(i[0]) == 1):\n",
    "                            i[0] = '0' + i[0]\n",
    "                        if(len(i[1]) == 1):\n",
    "                            i[1] = '0' + i[1]\n",
    "                        if((len(i[0]) == 2) & (len(i[1]) == 2)):\n",
    "                            if((int(i[1])<= 12) & (int(i[1])>=1)):\n",
    "                                if((int(i[0]) >= 1) & (int(i[0]) <= day_count_for_month[int(i[1]) - 1])):\n",
    "                                    Dates2.add(i[0] + i[1])\n",
    "    print(Dates1)\n",
    "    print(Dates2)\n",
    "    key = 0\n",
    "    for i in Dates1:\n",
    "        for j in Dates2:\n",
    "            if(i == j):\n",
    "                Res[\"both_years\"] += 1\n",
    "                key += 1\n",
    "        if(key == 0):\n",
    "            Res[\"only_first_year\"] += 1\n",
    "        key = 0\n",
    "    Res[\"any_year\"] = len(Dates1) + len(Dates2) - Res[\"both_years\"]\n",
    "    Res[\"only_one_year\"] = Res[\"any_year\"] - Res[\"both_years\"]\n",
    "    Res[\"only_second_year\"] = Res[\"only_one_year\"] - Res[\"only_first_year\"]\n",
    "    Res[\"none_of_years\"] = 365 - Res[\"any_year\"]\n",
    "    return Res    \n",
    "    \n",
    "cyclone_dates_1 = [\"  004/001 /2014\", \"05 / 13/  2014  \", \"2sad\", \"\", \" 31/3 / 1988 \", \" / \", \"21/12/198 8\", \"9/9/1999\", \"/\", \"9\",\"29/02/2016\"]\n",
    "cyclone_dates_2 = [\"04/01/2015\", \"   04 / 1 / 2016   \", \" 30/ 4/1983\"]\n",
    "\n",
    "Result = common_tc_dates(cyclone_dates_1, cyclone_dates_2)\n",
    "Result"
   ]
  },
  {
   "cell_type": "code",
   "execution_count": null,
   "id": "16e0d050",
   "metadata": {},
   "outputs": [],
   "source": []
  },
  {
   "cell_type": "code",
   "execution_count": null,
   "id": "3272725d",
   "metadata": {},
   "outputs": [],
   "source": []
  },
  {
   "cell_type": "code",
   "execution_count": null,
   "id": "95c35f55",
   "metadata": {},
   "outputs": [],
   "source": []
  },
  {
   "cell_type": "code",
   "execution_count": null,
   "id": "5f470ff8",
   "metadata": {},
   "outputs": [],
   "source": []
  },
  {
   "cell_type": "code",
   "execution_count": null,
   "id": "46045f3d",
   "metadata": {},
   "outputs": [],
   "source": []
  },
  {
   "cell_type": "code",
   "execution_count": 161,
   "id": "769668aa",
   "metadata": {},
   "outputs": [
    {
     "name": "stdout",
     "output_type": "stream",
     "text": [
      "The original string is : \n",
      "Does date match format? : False\n"
     ]
    }
   ],
   "source": [
    "for i in range (0, len(cyclone_dates_1), 1):\n",
    "        cyclone_dates_1[i] = cyclone_dates_1[i].strip()\n",
    "        krr = 0\n",
    "        for k in cyclone_dates_1[i]:\n",
    "            if(k == \"/\"):\n",
    "                krr += 1\n",
    "        if(krr == 2):\n",
    "            cyclone_dates_1[i] = cyclone_dates_1[i].split(\"/\")\n",
    "            cyclone_dates_1[i][0] = cyclone_dates_1[i][0].strip()\n",
    "            cyclone_dates_1[i][1] = cyclone_dates_1[i][1].strip()\n",
    "            cyclone_dates_1[i][2] = cyclone_dates_1[i][2].strip()\n",
    "            if((len(cyclone_dates_1[i][2]) == 4)):\n",
    "                if ((str.isdigit(cyclone_dates_1[i][0])) & (str.isdigit(cyclone_dates_1[i][1])) & (str.isdigit(cyclone_dates_1[i][2]))):\n",
    "                    if((int(cyclone_dates_1[i][2]) >= 1982) & (int(cyclone_dates_1[i][2]) <= 2022)):\n",
    "                        if(len(cyclone_dates_1[i][0]) == 1):\n",
    "                            cyclone_dates_1[i][0] = '0' + cyclone_dates_1[i][0]\n",
    "                        if(len(cyclone_dates_1[i][1]) == 1):\n",
    "                            cyclone_dates_1[i][1] = '0' + cyclone_dates_1[i][1]\n",
    "                        if((int(cyclone_dates_1[i][0]) >= 1) & (int(cyclone_dates_1[i][0]) <= day_count_for_month[int(cyclone_dates_1[i][1])-1])):\n",
    "                            Dates1.add(cyclone_dates_1[i][0]+cyclone_dates_1[i][1])  \n",
    "    for i in range (0, len(cyclone_dates_2), 1):\n",
    "        cyclone_dates_2[i] = cyclone_dates_2[i].strip()\n",
    "        krr = 0\n",
    "        for k in cyclone_dates_2[i]:\n",
    "            if(k == \"/\"):\n",
    "                krr += 1\n",
    "        if(krr == 2):\n",
    "            cyclone_dates_2[i] = cyclone_dates_2[i].split(\"/\")\n",
    "            cyclone_dates_2[i][0] = cyclone_dates_2[i][0].strip()\n",
    "            cyclone_dates_2[i][1] = cyclone_dates_2[i][1].strip()\n",
    "            cyclone_dates_2[i][2] = cyclone_dates_2[i][2].strip()\n",
    "            if((len(cyclone_dates_2[i][2]) == 4)):\n",
    "                if ((str.isdigit(cyclone_dates_2[i][0])) & (str.isdigit(cyclone_dates_2[i][1])) & (str.isdigit(cyclone_dates_2[i][2]))):\n",
    "                    if((int(cyclone_dates_2[i][2]) >= 1982) & (int(cyclone_dates_2[i][2]) <= 2022)):\n",
    "                        if(len(cyclone_dates_2[i][0]) == 1):\n",
    "                            cyclone_dates_2[i][0] = '0' + cyclone_dates_2[i][0]\n",
    "                        if(len(cyclone_dates_2[i][1]) == 1):\n",
    "                            cyclone_dates_2[i][1] = '0' + cyclone_dates_2[i][1]\n",
    "                        if((int(cyclone_dates_2[i][0]) >= 1) & (int(cyclone_dates_2[i][0]) <= day_count_for_month[int(cyclone_dates_2[i][1])-1])):\n",
    "                            Dates2.add(cyclone_dates_2[i][0]+cyclone_dates_2[i][1])  \n"
   ]
  },
  {
   "cell_type": "code",
   "execution_count": 111,
   "id": "b9859e72",
   "metadata": {},
   "outputs": [
    {
     "name": "stdout",
     "output_type": "stream",
     "text": [
      "[1, 1, 1, 1, 1]\n"
     ]
    }
   ],
   "source": []
  },
  {
   "cell_type": "code",
   "execution_count": null,
   "id": "ab68e72f",
   "metadata": {},
   "outputs": [],
   "source": []
  }
 ],
 "metadata": {
  "kernelspec": {
   "display_name": "Python 3 (ipykernel)",
   "language": "python",
   "name": "python3"
  },
  "language_info": {
   "codemirror_mode": {
    "name": "ipython",
    "version": 3
   },
   "file_extension": ".py",
   "mimetype": "text/x-python",
   "name": "python",
   "nbconvert_exporter": "python",
   "pygments_lexer": "ipython3",
   "version": "3.9.12"
  }
 },
 "nbformat": 4,
 "nbformat_minor": 5
}
